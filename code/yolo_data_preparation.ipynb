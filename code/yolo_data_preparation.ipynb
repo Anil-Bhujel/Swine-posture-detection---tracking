{
 "cells": [
  {
   "cell_type": "code",
   "execution_count": 1,
   "id": "confidential-advocate",
   "metadata": {},
   "outputs": [],
   "source": [
    "import glob\n",
    "import shutil\n",
    "import os\n"
   ]
  },
  {
   "cell_type": "code",
   "execution_count": 2,
   "id": "selected-capacity",
   "metadata": {},
   "outputs": [],
   "source": [
    "# For copying image files from one folder to another\n",
    "src_dir = \"D:/Anil/Dataset/pig_expt/pig_posture_datasets\"\n",
    "dst_dir = \"D:/Anil/Dataset/pig_expt/yolo_datasets/images\"\n",
    "for jpgfile in glob.iglob(os.path.join(src_dir, \"*.jpg\")):\n",
    "    shutil.copy(jpgfile, dst_dir)"
   ]
  },
  {
   "cell_type": "code",
   "execution_count": 14,
   "id": "discrete-enterprise",
   "metadata": {},
   "outputs": [
    {
     "name": "stdout",
     "output_type": "stream",
     "text": [
      "D:/Anil/Dataset/pig_expt/yolo_datasets/test/images\\test.txt\n"
     ]
    }
   ],
   "source": [
    "# For making train, valid, and test.txt files with image files path\n",
    "img_dir = \"D:/Anil/Dataset/pig_expt/yolo_datasets/test/images\"\n",
    "\n",
    "txt_file = os.path.join(img_dir,'test.txt')\n",
    "print(txt_file)\n",
    "with open(txt_file,'w')as txtfile:\n",
    "    for imgfile in glob.iglob(os.path.join(img_dir, \"*.jpg\")):\n",
    "        txtfile.write(imgfile)\n",
    "        txtfile.write('\\n')"
   ]
  },
  {
   "cell_type": "code",
   "execution_count": 17,
   "id": "weekly-rocket",
   "metadata": {},
   "outputs": [
    {
     "name": "stdout",
     "output_type": "stream",
     "text": [
      "D:/Anil/Dataset/pig_expt/yolo_datasets/test/labels\\test.txt\n"
     ]
    }
   ],
   "source": [
    "# For making train, valid, and test.txt files with labels file path\n",
    "label_dir = \"D:/Anil/Dataset/pig_expt/yolo_datasets/test/labels\"\n",
    "\n",
    "txt_file = os.path.join(label_dir,'test.txt')\n",
    "print(txt_file)\n",
    "with open(txt_file,'w')as txtfile:\n",
    "    for labelfile in glob.iglob(os.path.join(label_dir, \"*.txt\")):\n",
    "        txtfile.write(labelfile)\n",
    "        txtfile.write('\\n')"
   ]
  },
  {
   "cell_type": "code",
   "execution_count": null,
   "id": "coordinate-senate",
   "metadata": {},
   "outputs": [],
   "source": []
  }
 ],
 "metadata": {
  "kernelspec": {
   "display_name": "Python 3",
   "language": "python",
   "name": "python3"
  },
  "language_info": {
   "codemirror_mode": {
    "name": "ipython",
    "version": 3
   },
   "file_extension": ".py",
   "mimetype": "text/x-python",
   "name": "python",
   "nbconvert_exporter": "python",
   "pygments_lexer": "ipython3",
   "version": "3.7.10"
  }
 },
 "nbformat": 4,
 "nbformat_minor": 5
}
